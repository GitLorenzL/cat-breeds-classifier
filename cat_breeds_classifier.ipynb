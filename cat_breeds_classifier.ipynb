{
 "cells": [
  {
   "cell_type": "markdown",
   "id": "9708427e",
   "metadata": {
    "papermill": {
     "duration": 0.0503,
     "end_time": "2022-02-05T23:41:22.482491",
     "exception": false,
     "start_time": "2022-02-05T23:41:22.432191",
     "status": "completed"
    },
    "tags": []
   },
   "source": [
    "# Cat Breeds Classifier\n",
    "## Convolutional Neural Network using Pre-Trained Model vs Custom Model"
   ]
  },
  {
   "cell_type": "markdown",
   "id": "9147d6d6",
   "metadata": {
    "papermill": {
     "duration": 0.047262,
     "end_time": "2022-02-05T23:41:22.582569",
     "exception": false,
     "start_time": "2022-02-05T23:41:22.535307",
     "status": "completed"
    },
    "tags": []
   },
   "source": [
    "Three Convolutional Neural Network models built here are to compare the performance difference between custom and pre-trained models.\n",
    "\n",
    "Dataset used in this classifier can be found here: [dataset](https://www.kaggle.com/solothok/cat-breed)\n",
    "Data includes 6 different cat breeds, and the goal of the classifier is to be able to tell which breed a cat is given their image."
   ]
  },
  {
   "cell_type": "code",
   "execution_count": null,
   "id": "7d2b0f02",
   "metadata": {
    "execution": {
     "iopub.execute_input": "2022-02-05T23:41:22.831358Z",
     "iopub.status.busy": "2022-02-05T23:41:22.830139Z",
     "iopub.status.idle": "2022-02-05T23:41:54.177592Z",
     "shell.execute_reply": "2022-02-05T23:41:54.176853Z",
     "shell.execute_reply.started": "2022-02-05T23:13:24.003444Z"
    },
    "papermill": {
     "duration": 31.390551,
     "end_time": "2022-02-05T23:41:54.177773",
     "exception": false,
     "start_time": "2022-02-05T23:41:22.787222",
     "status": "completed"
    },
    "tags": []
   },
   "outputs": [],
   "source": [
    "!pip install torchsummary\n",
    "!pip install ax-platform"
   ]
  },
  {
   "cell_type": "code",
   "execution_count": null,
   "id": "011f2112",
   "metadata": {
    "execution": {
     "iopub.execute_input": "2022-02-05T23:41:54.271992Z",
     "iopub.status.busy": "2022-02-05T23:41:54.270924Z",
     "iopub.status.idle": "2022-02-05T23:41:56.827914Z",
     "shell.execute_reply": "2022-02-05T23:41:56.827065Z",
     "shell.execute_reply.started": "2022-02-05T23:16:26.157488Z"
    },
    "papermill": {
     "duration": 2.607725,
     "end_time": "2022-02-05T23:41:56.828104",
     "exception": false,
     "start_time": "2022-02-05T23:41:54.220379",
     "status": "completed"
    },
    "tags": []
   },
   "outputs": [],
   "source": [
    "import numpy as np\n",
    "import pandas as pd\n",
    "import torch\n",
    "import torchvision\n",
    "from torchsummary import summary\n",
    "from torch import nn, optim\n",
    "\n",
    "from torchvision import datasets, transforms, utils, models\n",
    "import matplotlib.pyplot as plt\n",
    "import matplotlib.animation as animation\n",
    "from IPython.display import HTML\n",
    "from PIL import Image\n",
    "\n",
    "from ax.service.managed_loop import optimize\n",
    "from ax.plot.contour import plot_contour\n",
    "from ax.plot.trace import optimization_trace_single_method\n",
    "from ax.utils.notebook.plotting import render, init_notebook_plotting\n",
    "from ax.utils.tutorials.cnn_utils import train, evaluate\n",
    "\n",
    "from sklearn.ensemble import RandomForestClassifier\n",
    "from sklearn.preprocessing import StandardScaler\n",
    "\n",
    "plt.style.use('ggplot')\n",
    "plt.rcParams.update({'font.size': 14, 'axes.labelweight': 'bold', 'axes.grid': False})"
   ]
  },
  {
   "cell_type": "code",
   "execution_count": null,
   "id": "0f756201",
   "metadata": {
    "execution": {
     "iopub.execute_input": "2022-02-05T23:41:57.486013Z",
     "iopub.status.busy": "2022-02-05T23:41:57.484861Z",
     "iopub.status.idle": "2022-02-05T23:41:57.489236Z",
     "shell.execute_reply": "2022-02-05T23:41:57.489757Z",
     "shell.execute_reply.started": "2022-02-05T23:16:32.638508Z"
    },
    "papermill": {
     "duration": 0.049573,
     "end_time": "2022-02-05T23:41:57.489910",
     "exception": false,
     "start_time": "2022-02-05T23:41:57.440337",
     "status": "completed"
    },
    "tags": []
   },
   "outputs": [],
   "source": [
    "device = torch.device('cuda' if torch.cuda.is_available() else 'cpu')\n",
    "print(f\"Using device: {device.type}\")"
   ]
  },
  {
   "cell_type": "code",
   "execution_count": null,
   "id": "d2a2008d",
   "metadata": {
    "execution": {
     "iopub.execute_input": "2022-02-05T23:41:57.753992Z",
     "iopub.status.busy": "2022-02-05T23:41:57.752822Z",
     "iopub.status.idle": "2022-02-05T23:41:57.755299Z",
     "shell.execute_reply": "2022-02-05T23:41:57.755914Z",
     "shell.execute_reply.started": "2022-02-05T23:16:36.459007Z"
    },
    "papermill": {
     "duration": 0.062774,
     "end_time": "2022-02-05T23:41:57.756077",
     "exception": false,
     "start_time": "2022-02-05T23:41:57.693303",
     "status": "completed"
    },
    "tags": []
   },
   "outputs": [],
   "source": [
    "# Helper Functions\n",
    "def trainer(model, criterion, optimizer, train_loader, valid_loader, device, epochs=5, verbose=True):\n",
    "    \"\"\"Simple training wrapper for PyTorch network.\"\"\"\n",
    "    \n",
    "    train_accuracy = []\n",
    "    valid_accuracy = []\n",
    "    for epoch in range(epochs):  # for each epoch\n",
    "        train_batch_loss = 0\n",
    "        train_batch_acc = 0\n",
    "        valid_batch_loss = 0\n",
    "        valid_batch_acc = 0\n",
    "        \n",
    "        # Training\n",
    "        for X, y in train_loader:\n",
    "            if device.type == 'cuda':\n",
    "                X, y = X.to(device), y.to(device)\n",
    "            optimizer.zero_grad()\n",
    "            y_hat = model(X)\n",
    "            _, y_hat_labels = torch.softmax(y_hat, dim=1).topk(1, dim=1)\n",
    "            loss = criterion(y_hat, y)\n",
    "            loss.backward()\n",
    "            optimizer.step()\n",
    "            train_batch_loss += loss.item()\n",
    "            train_batch_acc += (y_hat_labels.squeeze() == y).type(torch.float32).mean().item()\n",
    "        train_accuracy.append(train_batch_acc / len(train_loader))\n",
    "        \n",
    "        # Validation\n",
    "        model.eval()\n",
    "        with torch.no_grad():\n",
    "            for X, y in valid_loader:\n",
    "                if device.type == 'cuda':\n",
    "                    X, y = X.to(device), y.to(device)\n",
    "                y_hat = model(X)\n",
    "                _, y_hat_labels = torch.softmax(y_hat, dim=1).topk(1, dim=1)\n",
    "                loss = criterion(y_hat, y)\n",
    "                valid_batch_loss += loss.item()\n",
    "                valid_batch_acc += (y_hat_labels.squeeze() == y).type(torch.float32).mean().item()\n",
    "        valid_accuracy.append(valid_batch_acc / len(valid_loader))\n",
    "        model.train()\n",
    "        \n",
    "        # Print progress\n",
    "        if verbose:\n",
    "            print(f\"Epoch {epoch + 1}:\",\n",
    "                  f\"Train Accuracy: {train_accuracy[-1]:.2f}\",\n",
    "                  f\"Valid Accuracy: {valid_accuracy[-1]:.2f}\")\n",
    "    \n",
    "    return {\"train_accuracy\": train_accuracy, \"valid_accuracy\": valid_accuracy}\n",
    "\n",
    "\n",
    "def get_features(model, train_loader, valid_loader):\n",
    "    \"\"\"Extract output of the DenseNet model\"\"\"\n",
    "    \n",
    "    with torch.no_grad():  # turn off computational graph stuff\n",
    "        Z_train = torch.empty((0, 1024))  # Initialize empty tensors\n",
    "        y_train = torch.empty((0))\n",
    "        Z_valid = torch.empty((0, 1024))\n",
    "        y_valid = torch.empty((0))\n",
    "        for X, y in train_loader:\n",
    "            Z_train = torch.cat((Z_train, model(X)), dim=0)\n",
    "            y_train = torch.cat((y_train, y))\n",
    "        for X, y in valid_loader:\n",
    "            Z_valid = torch.cat((Z_valid, model(X)), dim=0)\n",
    "            y_valid = torch.cat((y_valid, y))\n",
    "    return Z_train.detach(), y_train.detach(), Z_valid.detach(), y_valid.detach()"
   ]
  },
  {
   "cell_type": "code",
   "execution_count": null,
   "id": "07a115d2",
   "metadata": {
    "execution": {
     "iopub.execute_input": "2022-02-05T23:41:57.847320Z",
     "iopub.status.busy": "2022-02-05T23:41:57.846677Z",
     "iopub.status.idle": "2022-02-05T23:41:59.645446Z",
     "shell.execute_reply": "2022-02-05T23:41:59.645976Z",
     "shell.execute_reply.started": "2022-02-05T23:17:01.745771Z"
    },
    "papermill": {
     "duration": 1.848993,
     "end_time": "2022-02-05T23:41:59.646168",
     "exception": false,
     "start_time": "2022-02-05T23:41:57.797175",
     "status": "completed"
    },
    "tags": []
   },
   "outputs": [],
   "source": [
    "TRAIN_DIR = \"./data/cat-breed/TRAIN/\"\n",
    "VALID_DIR = \"./data/cat-breed/TEST/\"\n",
    "IMAGE_SIZE = (200, 200)\n",
    "BATCH_SIZE = 64\n",
    "\n",
    "data_transforms = transforms.Compose([transforms.Resize(IMAGE_SIZE), transforms.ToTensor()])\n",
    "\n",
    "def get_data_loaders():\n",
    "    train_dataset = torchvision.datasets.ImageFolder(root=TRAIN_DIR, transform=data_transforms)\n",
    "    train_loader = torch.utils.data.DataLoader(train_dataset, batch_size=BATCH_SIZE, shuffle=True)\n",
    "    valid_dataset = torchvision.datasets.ImageFolder(root=VALID_DIR, transform=data_transforms)\n",
    "    valid_loader = torch.utils.data.DataLoader(valid_dataset, batch_size=BATCH_SIZE, shuffle=True)\n",
    "    return train_loader, valid_loader\n",
    "\n",
    "# Plot samples\n",
    "train_loader, valid_loader = get_data_loaders()\n",
    "sample_batch = next(iter(train_loader))\n",
    "plt.figure(figsize=(10, 8)); plt.axis(\"off\"); plt.title(\"Sample Training Images\")\n",
    "plt.imshow(np.transpose(utils.make_grid(sample_batch[0], padding=1, normalize=True),(1, 2, 0)));"
   ]
  },
  {
   "cell_type": "markdown",
   "id": "a1c2bd1b",
   "metadata": {},
   "source": [
    "### Custom Model"
   ]
  },
  {
   "cell_type": "code",
   "execution_count": null,
   "id": "1774708d",
   "metadata": {
    "execution": {
     "iopub.execute_input": "2022-02-05T23:41:59.759849Z",
     "iopub.status.busy": "2022-02-05T23:41:59.755736Z",
     "iopub.status.idle": "2022-02-05T23:47:51.895252Z",
     "shell.execute_reply": "2022-02-05T23:47:51.894396Z",
     "shell.execute_reply.started": "2022-02-05T23:17:25.206461Z"
    },
    "papermill": {
     "duration": 352.19844,
     "end_time": "2022-02-05T23:47:51.895517",
     "exception": false,
     "start_time": "2022-02-05T23:41:59.697077",
     "status": "completed"
    },
    "tags": []
   },
   "outputs": [],
   "source": [
    "class CatClassifierNet(nn.Module):\n",
    "    def __init__(self):\n",
    "        super().__init__()\n",
    "        self.main = nn.Sequential(\n",
    "            nn.Conv2d(3, 8, (5, 5)),\n",
    "            nn.ReLU(),\n",
    "            nn.MaxPool2d((2, 2)),\n",
    "            nn.Dropout(0.2),\n",
    "            \n",
    "            nn.Conv2d(8, 4, (3, 3)),\n",
    "            nn.ReLU(),\n",
    "            nn.MaxPool2d((3, 3)),\n",
    "            nn.Dropout(0.2),\n",
    "            \n",
    "            nn.Flatten(),\n",
    "            nn.Linear(4096, 128),\n",
    "            nn.ReLU(),\n",
    "            nn.Linear(128, 6)\n",
    "        )\n",
    "        \n",
    "    def forward(self, x):\n",
    "        out = self.main(x)\n",
    "        return out\n",
    "\n",
    "def train_evaluate(parameterization):\n",
    "    model = CatClassifierNet()\n",
    "    model.to(device)\n",
    "    model = train(model, train_loader, hyperparameters=parameterization)\n",
    "    return evaluate(model, valid_loader)\n",
    "\n",
    "model = CatClassifierNet()\n",
    "device = torch.device('cuda' if torch.cuda.is_available() else 'cpu')\n",
    "print(f\"Device = {device}\")\n",
    "model.to(device)"
   ]
  },
  {
   "cell_type": "code",
   "execution_count": null,
   "metadata": {},
   "outputs": [],
   "source": [
    "# Visualize Model\n",
    "input_tensor = torch.randn(64, 3, 200, 200)  # Example input tensor\n",
    "output_tensor = model(input_tensor)\n",
    "\n",
    "from torchviz import make_dot\n",
    "\n",
    "# Generate the visualization\n",
    "dot = make_dot(output_tensor, params=dict(model.named_parameters()))\n",
    "display(dot)"
   ]
  },
  {
   "cell_type": "code",
   "execution_count": null,
   "metadata": {},
   "outputs": [],
   "source": [
    "train_loader, valid_loader = get_data_loaders()\n",
    "criterion = nn.CrossEntropyLoss()\n",
    "optimizer = optim.Adam(model.parameters())\n",
    "results = trainer(model, criterion, optimizer, train_loader, valid_loader, device, epochs=20)"
   ]
  },
  {
   "cell_type": "markdown",
   "id": "d4cdd591",
   "metadata": {
    "papermill": {
     "duration": 0.054763,
     "end_time": "2022-02-05T23:47:52.007038",
     "exception": false,
     "start_time": "2022-02-05T23:47:51.952275",
     "status": "completed"
    },
    "tags": []
   },
   "source": [
    "### Feature Extracted Model using densenet"
   ]
  },
  {
   "cell_type": "code",
   "execution_count": null,
   "id": "9ca3f203",
   "metadata": {
    "execution": {
     "iopub.execute_input": "2022-02-05T23:47:52.411356Z",
     "iopub.status.busy": "2022-02-05T23:47:52.410395Z",
     "iopub.status.idle": "2022-02-05T23:54:09.237881Z",
     "shell.execute_reply": "2022-02-05T23:54:09.238406Z",
     "shell.execute_reply.started": "2022-02-05T23:25:24.236554Z"
    },
    "papermill": {
     "duration": 376.937722,
     "end_time": "2022-02-05T23:54:09.238594",
     "exception": false,
     "start_time": "2022-02-05T23:47:52.300872",
     "status": "completed"
    },
    "tags": []
   },
   "outputs": [],
   "source": [
    "feat_ext_net = models.densenet121(pretrained=True)\n",
    "\n",
    "for param in feat_ext_net.parameters():  # Freeze parameters so we don't update them\n",
    "    param.requires_grad = False\n",
    "\n",
    "new_layers = nn.Sequential(\n",
    "    nn.Linear(1024, 500),\n",
    "    nn.ReLU(),\n",
    "    nn.Linear(500, 6)\n",
    ")\n",
    "\n",
    "feat_ext_net.classifier = new_layers\n",
    "\n",
    "\n",
    "device = torch.device('cuda' if torch.cuda.is_available() else 'cpu')\n",
    "print(f\"Device = {device}\")\n",
    "feat_ext_net.to(device)\n",
    "\n",
    "train_loader, valid_loader = get_data_loaders()\n",
    "criterion = nn.CrossEntropyLoss()\n",
    "optimizer = torch.optim.Adam(feat_ext_net.parameters(), lr=0.0001)\n",
    "results = trainer(feat_ext_net, criterion, optimizer, train_loader, valid_loader, device, epochs=20)"
   ]
  },
  {
   "cell_type": "markdown",
   "id": "7e4c53bb",
   "metadata": {
    "papermill": {
     "duration": 0.064212,
     "end_time": "2022-02-05T23:54:09.367826",
     "exception": false,
     "start_time": "2022-02-05T23:54:09.303614",
     "status": "completed"
    },
    "tags": []
   },
   "source": [
    "Both the train and validation of the \"feature extractor\" model are accraucy are over 0.90, whereas the validation accuracy of the custom model built in Q1.1 was under 0.50. Therefore, the \"feature extractor\" model performs significantly better than \"from scratch\" model."
   ]
  },
  {
   "cell_type": "markdown",
   "id": "b5d3b3f6",
   "metadata": {
    "papermill": {
     "duration": 0.063076,
     "end_time": "2022-02-05T23:54:09.495313",
     "exception": false,
     "start_time": "2022-02-05T23:54:09.432237",
     "status": "completed"
    },
    "tags": []
   },
   "source": [
    "### Fine-Tuned Model by updating all the layers of pre-trained model densenet"
   ]
  },
  {
   "cell_type": "code",
   "execution_count": null,
   "id": "5e24868a",
   "metadata": {
    "execution": {
     "iopub.execute_input": "2022-02-05T23:54:09.759511Z",
     "iopub.status.busy": "2022-02-05T23:54:09.758499Z",
     "iopub.status.idle": "2022-02-06T00:01:53.676359Z",
     "shell.execute_reply": "2022-02-06T00:01:53.676900Z",
     "shell.execute_reply.started": "2022-02-05T23:31:55.291279Z"
    },
    "papermill": {
     "duration": 463.985299,
     "end_time": "2022-02-06T00:01:53.677095",
     "exception": false,
     "start_time": "2022-02-05T23:54:09.691796",
     "status": "completed"
    },
    "tags": []
   },
   "outputs": [],
   "source": [
    "# Load (but don't freeze) the model\n",
    "fine_tune_net = models.densenet121(pretrained=True)\n",
    "\n",
    "# Replace classification layer\n",
    "new_layers = nn.Sequential(\n",
    "    nn.Linear(1024, 500),\n",
    "    nn.ReLU(),\n",
    "    nn.Linear(500, 6)\n",
    ")\n",
    "fine_tune_net.classifier = new_layers\n",
    "\n",
    "# Move to GPU if available\n",
    "# Move to GPU if available\n",
    "device = torch.device('cuda' if torch.cuda.is_available() else 'cpu')\n",
    "print(f\"Device = {device}\")\n",
    "fine_tune_net.to(device)\n",
    "\n",
    "criterion = nn.CrossEntropyLoss()\n",
    "optimizer = torch.optim.Adam(fine_tune_net.parameters(), lr=0.0001)\n",
    "results = trainer(fine_tune_net, criterion, optimizer, train_loader, valid_loader, device, epochs=20)"
   ]
  },
  {
   "cell_type": "markdown",
   "id": "9bea133c",
   "metadata": {
    "papermill": {
     "duration": 0.072272,
     "end_time": "2022-02-06T00:01:53.822080",
     "exception": false,
     "start_time": "2022-02-06T00:01:53.749808",
     "status": "completed"
    },
    "tags": []
   },
   "source": [
    "The \"fine tuned\" model's train accuracy hits 1.00, and the validation accuracy hits over 0.95, which is slightly better than the \"feature extractor\" model, and significantly better than the \"from scratch\" model. Since the \"fine tuned\" model has the best train and validation accuracy."
   ]
  },
  {
   "cell_type": "markdown",
   "id": "b368055f",
   "metadata": {},
   "source": [
    "## Conclusion\n",
    "If a pre-defined model already exists for my particular use case, I should try to use the pre-trained model either fine-tuned or feature extracted."
   ]
  }
 ],
 "metadata": {
  "kernelspec": {
   "display_name": "Python 3",
   "language": "python",
   "name": "python3"
  },
  "language_info": {
   "codemirror_mode": {
    "name": "ipython",
    "version": 3
   },
   "file_extension": ".py",
   "mimetype": "text/x-python",
   "name": "python",
   "nbconvert_exporter": "python",
   "pygments_lexer": "ipython3",
   "version": "3.9.16"
  },
  "papermill": {
   "default_parameters": {},
   "duration": 1246.514019,
   "end_time": "2022-02-06T00:01:58.394803",
   "environment_variables": {},
   "exception": null,
   "input_path": "__notebook__.ipynb",
   "output_path": "__notebook__.ipynb",
   "parameters": {},
   "start_time": "2022-02-05T23:41:11.880784",
   "version": "2.3.3"
  },
  "widgets": {
   "application/vnd.jupyter.widget-state+json": {
    "state": {
     "1126b3f0015a459eb187181a0ec8d29b": {
      "model_module": "@jupyter-widgets/base",
      "model_module_version": "1.2.0",
      "model_name": "LayoutModel",
      "state": {
       "_model_module": "@jupyter-widgets/base",
       "_model_module_version": "1.2.0",
       "_model_name": "LayoutModel",
       "_view_count": null,
       "_view_module": "@jupyter-widgets/base",
       "_view_module_version": "1.2.0",
       "_view_name": "LayoutView",
       "align_content": null,
       "align_items": null,
       "align_self": null,
       "border": null,
       "bottom": null,
       "display": null,
       "flex": null,
       "flex_flow": null,
       "grid_area": null,
       "grid_auto_columns": null,
       "grid_auto_flow": null,
       "grid_auto_rows": null,
       "grid_column": null,
       "grid_gap": null,
       "grid_row": null,
       "grid_template_areas": null,
       "grid_template_columns": null,
       "grid_template_rows": null,
       "height": null,
       "justify_content": null,
       "justify_items": null,
       "left": null,
       "margin": null,
       "max_height": null,
       "max_width": null,
       "min_height": null,
       "min_width": null,
       "object_fit": null,
       "object_position": null,
       "order": null,
       "overflow": null,
       "overflow_x": null,
       "overflow_y": null,
       "padding": null,
       "right": null,
       "top": null,
       "visibility": null,
       "width": null
      }
     },
     "1189fd7713534bb495f4fe819b613b15": {
      "model_module": "@jupyter-widgets/controls",
      "model_module_version": "1.5.0",
      "model_name": "HTMLModel",
      "state": {
       "_dom_classes": [],
       "_model_module": "@jupyter-widgets/controls",
       "_model_module_version": "1.5.0",
       "_model_name": "HTMLModel",
       "_view_count": null,
       "_view_module": "@jupyter-widgets/controls",
       "_view_module_version": "1.5.0",
       "_view_name": "HTMLView",
       "description": "",
       "description_tooltip": null,
       "layout": "IPY_MODEL_52983db2829f458b817031211c9f1ba1",
       "placeholder": "​",
       "style": "IPY_MODEL_e31e85b11f7747ec9bad990cf4e32a61",
       "value": "100%"
      }
     },
     "3116ea72405543a1842d09cc463048a3": {
      "model_module": "@jupyter-widgets/base",
      "model_module_version": "1.2.0",
      "model_name": "LayoutModel",
      "state": {
       "_model_module": "@jupyter-widgets/base",
       "_model_module_version": "1.2.0",
       "_model_name": "LayoutModel",
       "_view_count": null,
       "_view_module": "@jupyter-widgets/base",
       "_view_module_version": "1.2.0",
       "_view_name": "LayoutView",
       "align_content": null,
       "align_items": null,
       "align_self": null,
       "border": null,
       "bottom": null,
       "display": null,
       "flex": null,
       "flex_flow": null,
       "grid_area": null,
       "grid_auto_columns": null,
       "grid_auto_flow": null,
       "grid_auto_rows": null,
       "grid_column": null,
       "grid_gap": null,
       "grid_row": null,
       "grid_template_areas": null,
       "grid_template_columns": null,
       "grid_template_rows": null,
       "height": null,
       "justify_content": null,
       "justify_items": null,
       "left": null,
       "margin": null,
       "max_height": null,
       "max_width": null,
       "min_height": null,
       "min_width": null,
       "object_fit": null,
       "object_position": null,
       "order": null,
       "overflow": null,
       "overflow_x": null,
       "overflow_y": null,
       "padding": null,
       "right": null,
       "top": null,
       "visibility": null,
       "width": null
      }
     },
     "4bec6381870f4e9d915f406241d3ef6d": {
      "model_module": "@jupyter-widgets/controls",
      "model_module_version": "1.5.0",
      "model_name": "DescriptionStyleModel",
      "state": {
       "_model_module": "@jupyter-widgets/controls",
       "_model_module_version": "1.5.0",
       "_model_name": "DescriptionStyleModel",
       "_view_count": null,
       "_view_module": "@jupyter-widgets/base",
       "_view_module_version": "1.2.0",
       "_view_name": "StyleView",
       "description_width": ""
      }
     },
     "52983db2829f458b817031211c9f1ba1": {
      "model_module": "@jupyter-widgets/base",
      "model_module_version": "1.2.0",
      "model_name": "LayoutModel",
      "state": {
       "_model_module": "@jupyter-widgets/base",
       "_model_module_version": "1.2.0",
       "_model_name": "LayoutModel",
       "_view_count": null,
       "_view_module": "@jupyter-widgets/base",
       "_view_module_version": "1.2.0",
       "_view_name": "LayoutView",
       "align_content": null,
       "align_items": null,
       "align_self": null,
       "border": null,
       "bottom": null,
       "display": null,
       "flex": null,
       "flex_flow": null,
       "grid_area": null,
       "grid_auto_columns": null,
       "grid_auto_flow": null,
       "grid_auto_rows": null,
       "grid_column": null,
       "grid_gap": null,
       "grid_row": null,
       "grid_template_areas": null,
       "grid_template_columns": null,
       "grid_template_rows": null,
       "height": null,
       "justify_content": null,
       "justify_items": null,
       "left": null,
       "margin": null,
       "max_height": null,
       "max_width": null,
       "min_height": null,
       "min_width": null,
       "object_fit": null,
       "object_position": null,
       "order": null,
       "overflow": null,
       "overflow_x": null,
       "overflow_y": null,
       "padding": null,
       "right": null,
       "top": null,
       "visibility": null,
       "width": null
      }
     },
     "698aa0cd532144daa7fda6ad2fef585c": {
      "model_module": "@jupyter-widgets/controls",
      "model_module_version": "1.5.0",
      "model_name": "ProgressStyleModel",
      "state": {
       "_model_module": "@jupyter-widgets/controls",
       "_model_module_version": "1.5.0",
       "_model_name": "ProgressStyleModel",
       "_view_count": null,
       "_view_module": "@jupyter-widgets/base",
       "_view_module_version": "1.2.0",
       "_view_name": "StyleView",
       "bar_color": null,
       "description_width": ""
      }
     },
     "6da99640b90d414486f5e391b579de25": {
      "model_module": "@jupyter-widgets/controls",
      "model_module_version": "1.5.0",
      "model_name": "HBoxModel",
      "state": {
       "_dom_classes": [],
       "_model_module": "@jupyter-widgets/controls",
       "_model_module_version": "1.5.0",
       "_model_name": "HBoxModel",
       "_view_count": null,
       "_view_module": "@jupyter-widgets/controls",
       "_view_module_version": "1.5.0",
       "_view_name": "HBoxView",
       "box_style": "",
       "children": [
        "IPY_MODEL_1189fd7713534bb495f4fe819b613b15",
        "IPY_MODEL_d88ffb41e1034255812340c0045f9a11",
        "IPY_MODEL_e9e2b0bc929f4de29ed872b0641ad485"
       ],
       "layout": "IPY_MODEL_8460ff1c0a3a4051a14661163aea715e"
      }
     },
     "8460ff1c0a3a4051a14661163aea715e": {
      "model_module": "@jupyter-widgets/base",
      "model_module_version": "1.2.0",
      "model_name": "LayoutModel",
      "state": {
       "_model_module": "@jupyter-widgets/base",
       "_model_module_version": "1.2.0",
       "_model_name": "LayoutModel",
       "_view_count": null,
       "_view_module": "@jupyter-widgets/base",
       "_view_module_version": "1.2.0",
       "_view_name": "LayoutView",
       "align_content": null,
       "align_items": null,
       "align_self": null,
       "border": null,
       "bottom": null,
       "display": null,
       "flex": null,
       "flex_flow": null,
       "grid_area": null,
       "grid_auto_columns": null,
       "grid_auto_flow": null,
       "grid_auto_rows": null,
       "grid_column": null,
       "grid_gap": null,
       "grid_row": null,
       "grid_template_areas": null,
       "grid_template_columns": null,
       "grid_template_rows": null,
       "height": null,
       "justify_content": null,
       "justify_items": null,
       "left": null,
       "margin": null,
       "max_height": null,
       "max_width": null,
       "min_height": null,
       "min_width": null,
       "object_fit": null,
       "object_position": null,
       "order": null,
       "overflow": null,
       "overflow_x": null,
       "overflow_y": null,
       "padding": null,
       "right": null,
       "top": null,
       "visibility": null,
       "width": null
      }
     },
     "d88ffb41e1034255812340c0045f9a11": {
      "model_module": "@jupyter-widgets/controls",
      "model_module_version": "1.5.0",
      "model_name": "FloatProgressModel",
      "state": {
       "_dom_classes": [],
       "_model_module": "@jupyter-widgets/controls",
       "_model_module_version": "1.5.0",
       "_model_name": "FloatProgressModel",
       "_view_count": null,
       "_view_module": "@jupyter-widgets/controls",
       "_view_module_version": "1.5.0",
       "_view_name": "ProgressView",
       "bar_style": "success",
       "description": "",
       "description_tooltip": null,
       "layout": "IPY_MODEL_1126b3f0015a459eb187181a0ec8d29b",
       "max": 32342954,
       "min": 0,
       "orientation": "horizontal",
       "style": "IPY_MODEL_698aa0cd532144daa7fda6ad2fef585c",
       "value": 32342954
      }
     },
     "e31e85b11f7747ec9bad990cf4e32a61": {
      "model_module": "@jupyter-widgets/controls",
      "model_module_version": "1.5.0",
      "model_name": "DescriptionStyleModel",
      "state": {
       "_model_module": "@jupyter-widgets/controls",
       "_model_module_version": "1.5.0",
       "_model_name": "DescriptionStyleModel",
       "_view_count": null,
       "_view_module": "@jupyter-widgets/base",
       "_view_module_version": "1.2.0",
       "_view_name": "StyleView",
       "description_width": ""
      }
     },
     "e9e2b0bc929f4de29ed872b0641ad485": {
      "model_module": "@jupyter-widgets/controls",
      "model_module_version": "1.5.0",
      "model_name": "HTMLModel",
      "state": {
       "_dom_classes": [],
       "_model_module": "@jupyter-widgets/controls",
       "_model_module_version": "1.5.0",
       "_model_name": "HTMLModel",
       "_view_count": null,
       "_view_module": "@jupyter-widgets/controls",
       "_view_module_version": "1.5.0",
       "_view_name": "HTMLView",
       "description": "",
       "description_tooltip": null,
       "layout": "IPY_MODEL_3116ea72405543a1842d09cc463048a3",
       "placeholder": "​",
       "style": "IPY_MODEL_4bec6381870f4e9d915f406241d3ef6d",
       "value": " 30.8M/30.8M [00:02&lt;00:00, 22.6MB/s]"
      }
     }
    },
    "version_major": 2,
    "version_minor": 0
   }
  }
 },
 "nbformat": 4,
 "nbformat_minor": 5
}
